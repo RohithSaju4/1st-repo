{
 "cells": [
  {
   "cell_type": "code",
   "execution_count": 1,
   "id": "c6febb87",
   "metadata": {},
   "outputs": [
    {
     "name": "stdout",
     "output_type": "stream",
     "text": [
      "Enter the number: 7\n",
      "7  is prime\n"
     ]
    }
   ],
   "source": [
    "# 1. Checking for prime number\n",
    "num=int(input(\"Enter the number: \"))\n",
    "flag=0\n",
    "for i in range(1,num):\n",
    "  if(i>1):\n",
    "   if(num%i==0):\n",
    "    flag=1\n",
    "    break\n",
    "   else:\n",
    "    pass\n",
    "if(flag>0):\n",
    "    print(num,\" is not prime\")\n",
    "else:\n",
    "    print(num,\" is prime\")"
   ]
  },
  {
   "cell_type": "code",
   "execution_count": 2,
   "id": "9f1ee634",
   "metadata": {},
   "outputs": [
    {
     "name": "stdout",
     "output_type": "stream",
     "text": [
      "Enter the number: 5\n",
      "The sum of squares of  5  is  55\n"
     ]
    }
   ],
   "source": [
    "# 3. Sum of squares of N natural numbers\n",
    "num=int(input(\"Enter the number: \"))\n",
    "sum=0\n",
    "for i in range(0,num+1):\n",
    "  sum+=i*i\n",
    "print(\"The sum of squares of \",num,\" is \",sum)"
   ]
  },
  {
   "cell_type": "code",
   "execution_count": 4,
   "id": "e53e95f2",
   "metadata": {},
   "outputs": [
    {
     "name": "stdout",
     "output_type": "stream",
     "text": [
      "Enter the digit: 73154\n",
      "Sum of digits of  73154  is  20\n"
     ]
    }
   ],
   "source": [
    "# 2. Calculate the sum of digits\n",
    "num=input(\"Enter the digit: \")\n",
    "sum=0\n",
    "for i in range(0,len(num)):\n",
    "    sum+=int(num[i])\n",
    "print(\"Sum of digits of \",num,\" is \",sum)"
   ]
  },
  {
   "cell_type": "code",
   "execution_count": 5,
   "id": "cc3350a6",
   "metadata": {},
   "outputs": [
    {
     "name": "stdout",
     "output_type": "stream",
     "text": [
      "Enter a number: 20\n",
      "[0, 1, 2, 3, 4, 5, 6, 7, 8, 9, 10, 11, 12, 13, 14, 15, 16, 17, 18, 19, 20]\n",
      "[0, 2, 4, 6, 8, 10, 12, 14, 16, 18, 20]\n"
     ]
    }
   ],
   "source": [
    "# 5. Python program to print even numbers in a list\n",
    "num=int(input(\"Enter a number: \"))\n",
    "lst=[]\n",
    "even_num=[]\n",
    "for i in range(0,num+1):\n",
    "    lst.append(i)\n",
    "for j in lst:\n",
    "    if(j%2==0):\n",
    "     even_num.append(j)\n",
    "print(lst)\n",
    "print(even_num)\n"
   ]
  },
  {
   "cell_type": "code",
   "execution_count": 6,
   "id": "e1f038ca",
   "metadata": {},
   "outputs": [
    {
     "name": "stdout",
     "output_type": "stream",
     "text": [
      "Original list:  [1, 2, 3, 4, 5, 6, 7, 8, 9]\n",
      "Changed list:  [9, 2, 3, 4, 5, 6, 7, 8, 1]\n"
     ]
    }
   ],
   "source": [
    "# 4. Python program to interchange first and last elements in a list\n",
    "lst=[1,2,3,4,5,6,7,8,9]\n",
    "temp=0\n",
    "print(\"Original list: \",lst)\n",
    "temp=lst[0]\n",
    "lst[0]=lst[len(lst)-1]\n",
    "lst[len(lst)-1]=temp\n",
    "print(\"Changed list: \",lst)\n",
    "         "
   ]
  },
  {
   "cell_type": "code",
   "execution_count": 7,
   "id": "5e8794c0",
   "metadata": {},
   "outputs": [
    {
     "name": "stdout",
     "output_type": "stream",
     "text": [
      "Enter the string: malayalam\n",
      "malayalam  is a palindrome string\n"
     ]
    }
   ],
   "source": [
    "# 6. Python program to check if a string is palindrome or not\n",
    "word=input(\"Enter the string: \")\n",
    "temp=\"\"\n",
    "for i in word:\n",
    " temp=i+temp\n",
    "if(word==temp):\n",
    "     print(word,\" is a palindrome string\")\n",
    "else:\n",
    "     print(word,\" is not a palindrome string\")"
   ]
  },
  {
   "cell_type": "code",
   "execution_count": 8,
   "id": "dd32881e",
   "metadata": {},
   "outputs": [
    {
     "name": "stdout",
     "output_type": "stream",
     "text": [
      "Enter the string: english\n",
      "english  is not a palindrome string\n"
     ]
    }
   ],
   "source": [
    "# 6.\n",
    "word=input(\"Enter the string: \")\n",
    "temp=\"\"\n",
    "for i in word:\n",
    " temp=i+temp\n",
    "if(word==temp):\n",
    "     print(word,\" is a palindrome string\")\n",
    "else:\n",
    "     print(word,\" is not a palindrome string\")"
   ]
  },
  {
   "cell_type": "code",
   "execution_count": 9,
   "id": "f1073d3a",
   "metadata": {},
   "outputs": [
    {
     "name": "stdout",
     "output_type": "stream",
     "text": [
      "Enter the range: 15\n",
      "0 1 1 2 3 5 8 13 21 34 55 89 144 233 377 610 "
     ]
    }
   ],
   "source": [
    "# 7. Python program for fibonacci series\n",
    "num=int(input(\"Enter the range: \"))\n",
    "a=0\n",
    "b=1\n",
    "for i in range(0,num+1):\n",
    "    print(a,end=\" \")\n",
    "    sum=a+b\n",
    "    a=b\n",
    "    b=sum\n"
   ]
  },
  {
   "cell_type": "code",
   "execution_count": 10,
   "id": "748e448b",
   "metadata": {},
   "outputs": [
    {
     "name": "stdout",
     "output_type": "stream",
     "text": [
      "Enter a number: 153\n",
      "153  is an armstrong number\n"
     ]
    }
   ],
   "source": [
    "# 8. Python program to print an armstrong number\n",
    "num=int(input(\"Enter a number: \"))\n",
    "order=len(str(num))\n",
    "sum=0\n",
    "temp=num\n",
    "for i in range(0,num):\n",
    "    digit=temp%10\n",
    "    sum+=digit**order\n",
    "    temp//=10\n",
    "if(num==sum):\n",
    "    print(num,\" is an armstrong number\")\n",
    "else:\n",
    "    print(num,\" is not an armstrong number\")"
   ]
  },
  {
   "cell_type": "code",
   "execution_count": null,
   "id": "53135db8",
   "metadata": {},
   "outputs": [],
   "source": []
  }
 ],
 "metadata": {
  "kernelspec": {
   "display_name": "Python 3",
   "language": "python",
   "name": "python3"
  },
  "language_info": {
   "codemirror_mode": {
    "name": "ipython",
    "version": 3
   },
   "file_extension": ".py",
   "mimetype": "text/x-python",
   "name": "python",
   "nbconvert_exporter": "python",
   "pygments_lexer": "ipython3",
   "version": "3.8.8"
  }
 },
 "nbformat": 4,
 "nbformat_minor": 5
}
